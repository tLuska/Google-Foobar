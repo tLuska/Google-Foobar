{
 "cells": [
  {
   "cell_type": "code",
   "execution_count": 40,
   "metadata": {},
   "outputs": [],
   "source": [
    "def solution(n):\n",
    "    # Your code here\n",
    "    n = int(n)\n",
    "    steps = 0\n",
    "    while n != 1:\n",
    "        if n % 2 == 0: n >>= 1\n",
    "        elif n==3 or not n % 4 == 3: n -= 1\n",
    "        else: n += 1\n",
    "        steps += 1\n",
    "    return steps"
   ]
  },
  {
   "cell_type": "code",
   "execution_count": 41,
   "metadata": {},
   "outputs": [
    {
     "name": "stdout",
     "output_type": "stream",
     "text": [
      "True\n",
      "True\n",
      "True\n",
      "True\n",
      "True\n",
      "True\n"
     ]
    }
   ],
   "source": [
    "print(solution(\"4\") == 2)\n",
    "print(solution(\"15\") == 5)\n",
    "print(solution(\"13\") == 5)\n",
    "print(solution(\"9\") == 4)\n",
    "print(solution(\"2\") == 1)\n",
    "print(solution(\"1\") == 0)"
   ]
  }
 ],
 "metadata": {
  "kernelspec": {
   "display_name": "Python 3",
   "language": "python",
   "name": "python3"
  },
  "language_info": {
   "codemirror_mode": {
    "name": "ipython",
    "version": 3
   },
   "file_extension": ".py",
   "mimetype": "text/x-python",
   "name": "python",
   "nbconvert_exporter": "python",
   "pygments_lexer": "ipython3",
   "version": "3.7.6"
  }
 },
 "nbformat": 4,
 "nbformat_minor": 4
}
