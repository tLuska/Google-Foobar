{
 "cells": [
  {
   "cell_type": "code",
   "execution_count": 149,
   "metadata": {},
   "outputs": [],
   "source": [
    "test_input = ('210022',3)\n",
    "# should be 3 in answer"
   ]
  },
  {
   "cell_type": "code",
   "execution_count": 422,
   "metadata": {},
   "outputs": [],
   "source": [
    "def solution(n, b):\n",
    "    #Your code here\n",
    "    id_history = []\n",
    "    while n not in id_history:\n",
    "        id_history.append(n)\n",
    "        if n == get_z(n, b): return 1\n",
    "        else: n = get_z(n, b)\n",
    "    return len(id_history[id_history.index(n):])\n",
    "    \n",
    "def get_z(id_, b):\n",
    "    k = len(id_)\n",
    "    y = ''.join(sorted(list(id_), key=int))\n",
    "    x = y[::-1]\n",
    "    z = convert_to_base(int(x, b) - int(y,b), b)\n",
    "    while len(z) < k:\n",
    "        z = '0' + z\n",
    "    return z\n",
    "    \n",
    "def convert_to_base(number, base):\n",
    "    if number < base or base == 10: return str(number)\n",
    "    result = ''\n",
    "    while number >= base:\n",
    "        result += str(int(number % base))\n",
    "        number //= base\n",
    "    if number > 0: result += str(number)\n",
    "    return result[::-1]"
   ]
  },
  {
   "cell_type": "code",
   "execution_count": 423,
   "metadata": {},
   "outputs": [
    {
     "data": {
      "text/plain": [
       "3"
      ]
     },
     "execution_count": 423,
     "metadata": {},
     "output_type": "execute_result"
    }
   ],
   "source": [
    "solution('210022',3)"
   ]
  },
  {
   "cell_type": "code",
   "execution_count": 424,
   "metadata": {},
   "outputs": [
    {
     "data": {
      "text/plain": [
       "1"
      ]
     },
     "execution_count": 424,
     "metadata": {},
     "output_type": "execute_result"
    }
   ],
   "source": [
    "solution('1211',10)"
   ]
  },
  {
   "cell_type": "code",
   "execution_count": 425,
   "metadata": {},
   "outputs": [
    {
     "data": {
      "text/plain": [
       "5"
      ]
     },
     "execution_count": 425,
     "metadata": {},
     "output_type": "execute_result"
    }
   ],
   "source": [
    "solution('20000', 9)"
   ]
  }
 ],
 "metadata": {
  "kernelspec": {
   "display_name": "Python 3",
   "language": "python",
   "name": "python3"
  },
  "language_info": {
   "codemirror_mode": {
    "name": "ipython",
    "version": 3
   },
   "file_extension": ".py",
   "mimetype": "text/x-python",
   "name": "python",
   "nbconvert_exporter": "python",
   "pygments_lexer": "ipython3",
   "version": "3.7.6"
  }
 },
 "nbformat": 4,
 "nbformat_minor": 4
}
