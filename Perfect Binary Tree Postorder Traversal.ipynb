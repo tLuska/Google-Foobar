{
 "cells": [
  {
   "cell_type": "code",
   "execution_count": 136,
   "metadata": {},
   "outputs": [],
   "source": [
    "def solution(h, q):\n",
    "    return [ get_parent_id(h, x) for x in q]\n",
    "    \n",
    "def get_parent_id(h, node_id):\n",
    "    if node_id >= 2**h - 1: return -1\n",
    "    \n",
    "    elif node_id < 2**h - 1:\n",
    "        tree_level = h\n",
    "        tree_shift = 0\n",
    "        \n",
    "        while tree_level > 0:\n",
    "            tree_level = tree_level - 1\n",
    "            \n",
    "            left = tree_shift + (2**tree_level-1)\n",
    "            right = left + (2**tree_level-1)\n",
    "            if node_id in [left,  right]:\n",
    "                return right + 1\n",
    "            else:\n",
    "                if node_id > left:\n",
    "                    tree_shift = left\n",
    "        return -1"
   ]
  },
  {
   "cell_type": "code",
   "execution_count": 137,
   "metadata": {},
   "outputs": [
    {
     "data": {
      "text/plain": [
       "[-1, 7, 6, 3]"
      ]
     },
     "execution_count": 137,
     "metadata": {},
     "output_type": "execute_result"
    }
   ],
   "source": [
    "solution(3, [7, 3, 5, 1])"
   ]
  }
 ],
 "metadata": {
  "kernelspec": {
   "display_name": "Python 3",
   "language": "python",
   "name": "python3"
  },
  "language_info": {
   "codemirror_mode": {
    "name": "ipython",
    "version": 3
   },
   "file_extension": ".py",
   "mimetype": "text/x-python",
   "name": "python",
   "nbconvert_exporter": "python",
   "pygments_lexer": "ipython3",
   "version": "3.7.6"
  }
 },
 "nbformat": 4,
 "nbformat_minor": 4
}
